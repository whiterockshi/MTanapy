{
 "cells": [
  {
   "cell_type": "markdown",
   "metadata": {},
   "source": [
    "## import library"
   ]
  },
  {
   "cell_type": "code",
   "execution_count": 10,
   "metadata": {},
   "outputs": [],
   "source": [
    "# Libraries\n",
    "from typing import List, Tuple, Dict, Union, Any, Iterable, Optional\n",
    "\n",
    "# root I/O\n",
    "import uproot\n",
    "import awkward as ak\n",
    "import numpy as np\n",
    "\n",
    "# # plotting\n",
    "# import matplotlib.pyplot as plt\n",
    "# from matplotlib.ticker import ScalarFormatter\n",
    "\n",
    "# plotting style\n",
    "import ROOT as r\n",
    "\n",
    "# useful\n",
    "import math\n",
    "import sys\n",
    "import os"
   ]
  },
  {
   "cell_type": "markdown",
   "metadata": {},
   "source": [
    "## definition of constants"
   ]
  },
  {
   "cell_type": "code",
   "execution_count": 11,
   "metadata": {},
   "outputs": [],
   "source": [
    "OUTPUT_DIR = \"./data/old_800mm_notar\"\n",
    "# debug data (100k events)\n",
    "INPUT_ROOT_PATH = \"/home/shiraiwa/myg4work/olddetector/old_800mm_taron/MT-build/develop_data/100k.root\"\n",
    "# all data (60M events)\n",
    "# INPUT_DATA = \"/home/shiraiwa/myg4work/olddetector/old_800mm_taron/MT-build/MT1/all.root\"\n",
    "VERVOSE = True\n",
    "Y_MAX = 100\n",
    "Z_POS = 2500\n",
    "DIST_FR = 800\n",
    "RESO_X = 32\n",
    "RESO_Y = 32\n",
    "MARGIN = 0\n",
    "LIST_OF_BRANCHES = ['ScPosX','ScPosY','ScPosZ','ScEdep']\n"
   ]
  },
  {
   "cell_type": "markdown",
   "metadata": {},
   "source": [
    "## definition of function"
   ]
  },
  {
   "cell_type": "code",
   "execution_count": 18,
   "metadata": {},
   "outputs": [],
   "source": [
    "class EventFilter:\n",
    "    \"\"\"\n",
    "    A class used to filter events from a ROOT file and convert to dict of numpy.ndarray.\n",
    "\n",
    "    ...\n",
    "\n",
    "    Attributes\n",
    "    ----------\n",
    "    input_root_path : str\n",
    "        The path to the input ROOT file.\n",
    "    output_dir : str\n",
    "        The directory where the output will be stored.\n",
    "    th_MeV : float\n",
    "        The threshold energy in MeV for a channel to be considered active.\n",
    "    events : dict\n",
    "        The events data from the ROOT file.\n",
    "\n",
    "    Methods\n",
    "    -------\n",
    "    _root_to_numpy():\n",
    "        Converts the ROOT file to a numpy array.\n",
    "    _correct_layer_order():\n",
    "        Corrects the layer order of the events.\n",
    "    _get_is_active_channel():\n",
    "        Returns a boolean array indicating if the channel energy is > th_MeV.\n",
    "    _filter_empty_events():\n",
    "        Filters out events with no energy deposition.\n",
    "    get_active_channel_idx():\n",
    "        Returns a list of arrays with the channel indices of active channels.\n",
    "    \"\"\"\n",
    "    def __init__(self, input_root_path:str, output_dir:str, th_MeV:float=0.):\n",
    "        \"\"\"\n",
    "        Constructs all the necessary attributes for the EventFilter object.\n",
    "\n",
    "        Parameters\n",
    "        ----------\n",
    "            input_root_path : str\n",
    "                The path to the input ROOT file.\n",
    "            output_dir : str\n",
    "                The directory where the output will be stored.\n",
    "            th_MeV : float\n",
    "                The threshold energy in MeV for a channel to be considered active.\n",
    "        \"\"\"\n",
    "        self.input_root_path = input_root_path\n",
    "        self.output_dir = output_dir\n",
    "        self.th_MeV = th_MeV\n",
    "        self.events = self._root_to_numpy()\n",
    "        self.events = self._correct_layer_order()\n",
    "        print(\"n_events before filtering: \", len(self.events['ScEdep']))\n",
    "        self.events = self._filter_empty_events()\n",
    "        print(\"n_events after filtering: \", len(self.events['ScEdep']))\n",
    "\n",
    "    def _root_to_numpy(self)->Dict[str, np.ndarray]:\n",
    "        \"\"\"\n",
    "        Corrects the layer order of the events from (0, 1, 2, 3) to (3, 2, 0, 1).\n",
    "\n",
    "        Returns\n",
    "        -------\n",
    "        dict\n",
    "            The events data with corrected layer order.\n",
    "        \"\"\"\n",
    "        tree = uproot.open(self.input_root_path)[\"MT\"]\n",
    "        events = tree.arrays(LIST_OF_BRANCHES, library=\"np\")\n",
    "        for k in events.keys():\n",
    "            events[k] = np.stack(events[k], axis=0)\n",
    "        return events\n",
    "    \n",
    "    def _correct_layer_order(self)->Dict[str, np.ndarray]:\n",
    "        \"\"\"\n",
    "        Corrects the layer order of the events from (0, 1, 2, 3) to (3, 2, 0, 1).\n",
    "\n",
    "        Returns\n",
    "        -------\n",
    "        dict\n",
    "            The events data with corrected layer order.\n",
    "        \"\"\"\n",
    "        for k in self.events.keys():\n",
    "            _layers = np.split(self.events[k], 4, axis=1)\n",
    "            self.events[k] = np.concatenate([_layers[3], _layers[2], _layers[0], _layers[1]], axis=1)\n",
    "        return self.events\n",
    "    \n",
    "    def _get_is_active_channel(self)->np.ndarray:\n",
    "        \"\"\"\n",
    "        Returns a boolean array indicating if the channel energy is > th_MeV.\n",
    "\n",
    "        Returns\n",
    "        -------\n",
    "        np.ndarray\n",
    "            A boolean array where True indicates that the channel energy is > th_MeV.\n",
    "        \"\"\"\n",
    "        is_active_channel = self.events['ScEdep'] > self.th_MeV\n",
    "        return is_active_channel\n",
    "    \n",
    "    def _filter_empty_events(self)->np.ndarray:\n",
    "        \"\"\"\n",
    "        Filters out events with no energy deposition.\n",
    "\n",
    "        Returns\n",
    "        -------\n",
    "        np.ndarray\n",
    "            The events data with empty events filtered out.\n",
    "        \"\"\"\n",
    "        isnot_empty = (self.events['ScEdep']).sum(axis=1) > 0\n",
    "        for k in self.events.keys():\n",
    "            self.events[k] = self.events[k][isnot_empty]\n",
    "        return self.events\n",
    "    \n",
    "    def get_active_channel_idx(self)->List[np.ndarray]:\n",
    "        \"\"\"\n",
    "        Returns a list of arrays with the channel indices of active channels.\n",
    "\n",
    "        Returns\n",
    "        -------\n",
    "        list\n",
    "            A list of numpy arrays where each array contains the indices of the active channels for an event.\n",
    "        \"\"\"\n",
    "        is_active_channel = self._get_is_active_channel()\n",
    "        active_channel_idx = []\n",
    "        for i in range(len(is_active_channel)):\n",
    "            active_channel_idx.append(np.where(is_active_channel[i])[0])\n",
    "        return active_channel_idx\n",
    "\n",
    "    # def split_array(self)->List[np.ndarray]:\n",
    "    #     \"\"\"\n",
    "    #     Find consecutive hits.\n",
    "\n",
    "    #     Parameters:\n",
    "    #     arr: hit_pos_A or hit_pos_B from hit_finder function.\n",
    "\n",
    "    #     Returns:\n",
    "    #     An array of contiguous blocks of consecutive hit channels.\n",
    "\n",
    "    #     Example:\n",
    "        \n",
    "    #     ```\n",
    "    #     arr = [1,2,3,10,11,12,29,30]\n",
    "    #     diff = [1,1,7,1,1,17,1]\n",
    "    #     split_indices = [3,6] # This is the index that is not consecutive\n",
    "    #     [array([1, 2, 3]), array([10, 11, 12]), array([29, 30])]\n",
    "    #     ```\n",
    "\n",
    "    #     \"\"\"\n",
    "    #     diff = np.diff(arr)\n",
    "    #     split_indices = np.where(diff != 1)[0] + 1\n",
    "    #     return np.split(arr, split_indices)"
   ]
  },
  {
   "cell_type": "markdown",
   "metadata": {},
   "source": [
    "## Execute part\n"
   ]
  },
  {
   "cell_type": "code",
   "execution_count": 13,
   "metadata": {},
   "outputs": [
    {
     "name": "stdout",
     "output_type": "stream",
     "text": [
      "n_events before filtering:  90000\n",
      "n_events after filtering:  30750\n"
     ]
    }
   ],
   "source": [
    "event_filter = EventFilter(INPUT_ROOT_PATH, OUTPUT_DIR)\n",
    "\n",
    "events = event_filter.events\n",
    "active_channel_idx = event_filter.get_active_channel_idx()"
   ]
  },
  {
   "cell_type": "code",
   "execution_count": 14,
   "metadata": {},
   "outputs": [],
   "source": [
    "active_channel_list=event_filter.get_active_channel_idx()"
   ]
  },
  {
   "cell_type": "code",
   "execution_count": 15,
   "metadata": {},
   "outputs": [],
   "source": [
    "active_channel_list.append(np.array([0,1,2,3,4,5,6,7,8,9,10,11,12,13,14]))"
   ]
  }
 ],
 "metadata": {
  "kernelspec": {
   "display_name": "py310",
   "language": "python",
   "name": "python3"
  },
  "language_info": {
   "codemirror_mode": {
    "name": "ipython",
    "version": 3
   },
   "file_extension": ".py",
   "mimetype": "text/x-python",
   "name": "python",
   "nbconvert_exporter": "python",
   "pygments_lexer": "ipython3",
   "version": "3.11.6"
  }
 },
 "nbformat": 4,
 "nbformat_minor": 2
}
